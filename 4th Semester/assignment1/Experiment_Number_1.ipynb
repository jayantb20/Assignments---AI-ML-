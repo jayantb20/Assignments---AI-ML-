{
 "cells": [
  {
   "cell_type": "markdown",
   "id": "4477dd7d",
   "metadata": {},
   "source": [
    "# Computational Programming Laboratory\n",
    "## Experiment Number :1 \n",
    "Compute Estimators of the main statistical measures like <mark>Mean, Variance, Standard\n",
    "Deviation, Covariance, Correlation and Standard error </mark> with respect to any example.\n",
    "Display graphically the distribution of samples.\n",
    "\n",
    "### Exercise \n",
    "1. Download [weight-height.csv](https://gist.github.com/nstokoe/7d4717e96c21b8ad04ec91f361b000cb)\n",
    "2. Load this data in python.\n",
    "3. Calculate for both Height and Weight variable.\n",
    "    1. Mean\n",
    "    2. median\n",
    "    3. mode\n",
    "    4. Variance\n",
    "    5. Standard Deviation\n",
    "    6. Standard Error\n",
    "    \n",
    "4. Plot the data, Mean, Median, and Mode on top of frequency distribution of weight and height.\n",
    "5. Plot the Scatter plot with respect to height and weight\n",
    "5. Calculate **Covariance and Correlation** of the two variables.\n",
    "\n"
   ]
  },
  {
   "cell_type": "code",
   "execution_count": null,
   "id": "b3db26ea",
   "metadata": {},
   "outputs": [],
   "source": [
    "#Load necessary libraries in python \n",
    "\n"
   ]
  },
  {
   "cell_type": "code",
   "execution_count": null,
   "id": "5723fe88",
   "metadata": {},
   "outputs": [],
   "source": [
    "# have a peek at the data"
   ]
  },
  {
   "cell_type": "markdown",
   "id": "6af3ee00",
   "metadata": {},
   "source": [
    "### Calculation of mean\n",
    "\n",
    "**Definition :** The arithmetic mean, or simply the mean or the average, is the sum of a collection of numbers divided by the count of numbers in the collection.\n",
    "\n",
    "$$  \\mu = \\dfrac{\\displaystyle\\sum_{\\forall i} x_i}{N} $$\n",
    "\n",
    "Where,\n",
    "\n",
    "        $\\mu$\t=\tarithmetic mean \n",
    "        \n",
    "        $N$\t=\tnumber of values \n",
    "        \n",
    "        $x_i$\t=\tdata set values "
   ]
  },
  {
   "cell_type": "code",
   "execution_count": null,
   "id": "572f8b61",
   "metadata": {},
   "outputs": [],
   "source": [
    "# Calcultion of mean for height\n",
    "\n",
    "\n",
    "# Calculation of mean for weight\n"
   ]
  },
  {
   "cell_type": "markdown",
   "id": "d2e99066",
   "metadata": {},
   "source": [
    "### Calculation of median\n",
    "\n",
    "**Definition :** The median is the value separating the higher half from the lower half of a data sample, a population, or a probability distribution. For a data set, it may be thought of as \"the middle\" value. \n",
    "\n"
   ]
  },
  {
   "cell_type": "code",
   "execution_count": null,
   "id": "127cfdf4",
   "metadata": {},
   "outputs": [],
   "source": [
    "# Calcultion of median for height\n",
    "\n",
    "\n",
    "# Calculation of median for weight"
   ]
  },
  {
   "cell_type": "markdown",
   "id": "c17dd87b",
   "metadata": {},
   "source": [
    "### Calculation of mode\n",
    "\n",
    "**Definition :** The mode is the value that appears most often in a set of data values. If X is a discrete random variable, the mode is the value x (i.e, X = x) at which the probability mass function takes its maximum value. In other words, it is the value that is most likely to be sampled.\n",
    "\n",
    "The mode of a sample is the element that occurs most often in the collection. For example, the mode of the sample [1, 3, 6, 6, 6, 6, 7, 7, 12, 12, 17] is 6.\n",
    "\n"
   ]
  },
  {
   "cell_type": "code",
   "execution_count": null,
   "id": "c446f937",
   "metadata": {},
   "outputs": [],
   "source": [
    "# Calcultion of mode for height\n",
    "\n",
    "\n",
    "# Calculation of mode for weight\n"
   ]
  },
  {
   "cell_type": "markdown",
   "id": "b68b274e",
   "metadata": {},
   "source": [
    "### Calculation of variance and Standard Deviation \n",
    "\n",
    "**Definition :** variance is the expectation of the squared deviation of a random variable from its mean. Variance is a measure of dispersion, meaning it is a measure of how far a set of numbers is spread out from their average value.\n",
    "\n",
    "$$  \\sigma^2 = \\text{Var(X)} = E[(X-\\mu)^2] =  E[X^2] - {E[X]}^2 = \\text{Cov(X,X)}$$\n",
    "\n",
    "The variance of a collection of N equally likely values (N data points ) can be written as\n",
    "\n",
    "$$ \\sigma^2 = \\text{Var(X)} = \\dfrac{1}{N} \\sum_{i=1}^{N} (x_i-\\mu)^2 = \\dfrac{\\displaystyle\\sum_{i=1}^{N} x_i^2}{N} - \\mu^2 $$\n",
    "\n",
    "**Definition :** standard deviation is a measure of the amount of variation or dispersion of a set of values. it is defined as posite square root of variance\n",
    "\n",
    "$$  \\sigma = \\text{SD(X)} = \\sqrt{ E[(X-\\mu)^2]} = \\sqrt{ E[X^2] - {E[X]}^2} = \\sqrt{ \\text{Cov(X,X)}}$$\n",
    "\n",
    "The standard deviation of a collection of N equally likely values (N data points ) can be written as\n",
    "\n",
    "$$ \\sigma = \\text{SD(X)} = \\sqrt{\\dfrac{1}{N} \\sum_{i=1}^{N} (x_i-\\mu)^2} =\\sqrt{ \\dfrac{\\displaystyle\\sum_{i=1}^{N} x_i^2}{N} - \\mu^2} $$\n"
   ]
  },
  {
   "cell_type": "code",
   "execution_count": null,
   "id": "3dd4c6dd",
   "metadata": {},
   "outputs": [],
   "source": [
    "# Calcultion of variance and standard deviation for height\n",
    "\n",
    "\n",
    "# Calculation of variance and standard deviation for weight\n"
   ]
  },
  {
   "cell_type": "markdown",
   "id": "4399a603",
   "metadata": {},
   "source": [
    "### Calculation of variance and Standard Deviation \n",
    "\n",
    "**Definition :** SE is used to estimate the efficiency, accuracy, and consistency of a sample. In other words, it measures how precisely a sampling distribution represents a population.\n",
    "\n",
    "**Calculating Standard Error of the Mean (SEM)**\n",
    "\n",
    "$$SE = \\dfrac{\\sigma}{\\sqrt{N}}$$\n",
    "\n"
   ]
  },
  {
   "cell_type": "code",
   "execution_count": null,
   "id": "83b78795",
   "metadata": {},
   "outputs": [],
   "source": [
    "# Calcultion of Standard Error for height\n",
    "\n",
    "\n",
    "# Calculation of Standard Error deviation for weight\n"
   ]
  },
  {
   "cell_type": "markdown",
   "id": "2cfd78da",
   "metadata": {},
   "source": [
    "### Scatter Plot  \n",
    "\n",
    "**Definition :** A scatter plot is a type of plot or mathematical diagram using Cartesian coordinates to display values for typically two variables for a set of data.\n",
    "\n",
    "   The data are displayed as a collection of points, each having the value of one variable determining the position on the horizontal axis and the value of the other variable determining the position on the vertical axis"
   ]
  },
  {
   "cell_type": "code",
   "execution_count": null,
   "id": "c5bad820",
   "metadata": {},
   "outputs": [],
   "source": [
    "# display  the scatter plot \n"
   ]
  },
  {
   "cell_type": "markdown",
   "id": "4c098b1f",
   "metadata": {},
   "source": [
    "### Covariance & Correlation coefficient\n",
    "\n",
    "**Definition :** In mathematics and statistics, covariance is a measure of the relationship between two random variables. The metric evaluates how much – to what extent – the variables change together. In other words, it is essentially a measure of the variance between two variables. However, the metric does not assess the dependency between variables.\n",
    "\n",
    "$$ \\text{COV(X,Y)} = \\dfrac{\\displaystyle\\sum_{i,j}(x_i-\\mu_x)(y_j-\\mu_y)}{N} $$\n",
    "\n",
    "\n",
    "**Definition :** correlation measures the strength of the relationship between variables. Correlation is the scaled measure of covariance. It is dimensionless. In other words, the correlation coefficient is always a pure value and not measured in any units.\n",
    "\n",
    "$$ \\rho(X,Y) = \\dfrac{\\text{COV(X,Y)}}{\\sigma_x \\sigma_y} $$"
   ]
  },
  {
   "cell_type": "code",
   "execution_count": null,
   "id": "b3e3a1dd",
   "metadata": {},
   "outputs": [],
   "source": [
    "# Calculate covarince and correlation coefficient of the data \n"
   ]
  },
  {
   "cell_type": "markdown",
   "id": "18a8e283",
   "metadata": {},
   "source": [
    "### Covariance Matrix\n",
    "\n",
    "**Definition :** In probability theory and statistics, a covariance matrix (also known as auto-covariance matrix, dispersion matrix, variance matrix, or variance–covariance matrix) is a square matrix giving the covariance between each pair of elements of a given random vector.\n",
    "\n",
    "![Covariance Matrix](https://miro.medium.com/max/1050/1*J6z7xcleH9wxHGGCLvDptg.jpeg)\n",
    "\n"
   ]
  },
  {
   "cell_type": "code",
   "execution_count": null,
   "id": "3d387098",
   "metadata": {},
   "outputs": [],
   "source": [
    "# Calculate covarince matrix of the data \n"
   ]
  }
 ],
 "metadata": {
  "kernelspec": {
   "display_name": "Python 3 (ipykernel)",
   "language": "python",
   "name": "python3"
  },
  "language_info": {
   "codemirror_mode": {
    "name": "ipython",
    "version": 3
   },
   "file_extension": ".py",
   "mimetype": "text/x-python",
   "name": "python",
   "nbconvert_exporter": "python",
   "pygments_lexer": "ipython3",
   "version": "3.8.10"
  }
 },
 "nbformat": 4,
 "nbformat_minor": 5
}
